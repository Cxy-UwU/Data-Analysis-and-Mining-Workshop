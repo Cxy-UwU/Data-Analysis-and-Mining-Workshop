{
 "cells": [
  {
   "cell_type": "markdown",
   "id": "0",
   "metadata": {},
   "source": [
    "# 动机\n",
    "不同病人之间的检测数据可能呈现不同的特征，而同一个病人的监测数据可能具有某种共性。因此，按入院的患者来做分组，可能是另一种可行的数据稠密化方案。"
   ]
  },
  {
   "cell_type": "code",
   "execution_count": null,
   "id": "1",
   "metadata": {},
   "outputs": [],
   "source": [
    "import pandas as pd\n",
    "from sklearn.decomposition import PCA\n",
    "from sklearn.preprocessing import MinMaxScaler, StandardScaler\n",
    "import matplotlib\n",
    "\n",
    "# Load data from a pickle file\n",
    "try:\n",
    "    data : pd = pd.read_pickle('../data/data_remove_dup.pkl')\n",
    "except:\n",
    "    print(\"未在路径中找到目标数据表，先运行其他脚本\")\n",
    "    raise\n",
    "data = data.iloc[:, 1:].drop(columns=[\"病床号\"])\n",
    "data = data.groupby(\"住院号码\").mean(numeric_only=True).reset_index()\n",
    "import matplotlib.pyplot as plt\n",
    "\n",
    "# Select the specified columns\n",
    "groups = [['C肽（餐后2小时）', '胰岛素（餐后2小时）', '葡萄糖(餐后2小时)'],\n",
    "          ['促甲状腺素', '反三碘甲状腺原氨酸', '总三碘甲状腺原氨酸', '总四碘甲状腺原氨酸', '游离三碘甲状腺原氨酸',\n",
    "           '游离甲状腺素', '甲状腺球蛋白', '甲状腺过氧化物酶抗体'],\n",
    "          ['β-胶原特殊序列', '促甲状腺素受体抗体', '总I型胶原氨基端延长肽', '骨钙素(N-MID)'],\n",
    "          ['25-羟基维生素D', '甲状旁腺激素', '降钙素'],\n",
    "          ['C肽', '胰岛素'],\n",
    "          ['促卵泡成熟素', '促黄体生成素', '叶酸', '孕酮', '泌乳素', '睾酮', '硫酸去氢表雄酮', '雌二醇'],\n",
    "          ['干扰素γ', '白介素10', '白介素17A', '白介素1β', '白介素2', '白介素2受体', '白介素4', '白介素5', '白介素6',\n",
    "           '白介素8', '肿瘤坏死因子α'],\n",
    "          ['低密度脂蛋白', '总胆固醇', '甘油三酯', '磷', '糖化白蛋白', '葡萄糖', '镁', '高密度脂蛋白'],\n",
    "          ['尿素', '尿酸', '氯', '肌酐', '钙', '钠', '钾'],\n",
    "          ['γ-谷氨酰转肽酶', '天门冬氨酸转氨酶', '总胆红素', '直接胆红素', '碱性磷酸酶']]\n",
    "# 对所有 groups 中的列分别做PCA，并绘图展示\n",
    "for idx, group in enumerate(groups):\n",
    "    # 过滤出当前 group 中实际存在于 data 的列\n",
    "    valid_columns = [col for col in group if col in data.columns]\n",
    "    if not valid_columns:\n",
    "        print(f\"Group {idx+1} 没有有效的列，跳过。\")\n",
    "        continue\n",
    "    group_data = data[valid_columns].dropna()\n",
    "    if group_data.shape[0] < 3 or group_data.shape[1] < 2:\n",
    "        print(f\"Group {idx+1} 数据量不足，跳过。\")\n",
    "        continue\n",
    "    # 归一化\n",
    "    scaler = MinMaxScaler()\n",
    "    # scaler = StandardScaler()\n",
    "    group_normalized = scaler.fit_transform(group_data)\n",
    "    # PCA\n",
    "    group_pca = PCA()\n",
    "    group_pca_result = group_pca.fit_transform(group_normalized)\n",
    "    # 解释方差\n",
    "    print(f\"Group {idx+1} ({valid_columns}) explained variance ratio:\", group_pca.explained_variance_ratio_)\n",
    "    # 绘图（弹出窗口，支持交互旋转）\n",
    "    from mpl_toolkits.mplot3d import Axes3D  # 确保3D支持\n",
    "    matplotlib.use('tkagg')  # 使用tkagg后端弹窗\n",
    "\n",
    "    fig = plt.figure(figsize=(8, 6))\n",
    "    ax = fig.add_subplot(111, projection=\"3d\")\n",
    "    ax.scatter(\n",
    "        group_pca_result[:, 0],\n",
    "        group_pca_result[:, 1],\n",
    "        group_pca_result[:, 2] if group_pca_result.shape[1] > 2 else [0]*group_pca_result.shape[0],\n",
    "        alpha=0.7\n",
    "    )\n",
    "    ax.set_title(f\"PCA Result (3D) - Group {idx+1}\")\n",
    "    ax.set_xlabel(\"PC1\")\n",
    "    ax.set_ylabel(\"PC2\")\n",
    "    ax.set_zlabel(\"PC3\")\n",
    "    plt.show(block=True)\n"
   ]
  }
 ],
 "metadata": {
  "kernelspec": {
   "display_name": "base",
   "language": "python",
   "name": "python3"
  },
  "language_info": {
   "codemirror_mode": {
    "name": "ipython",
    "version": 3
   },
   "file_extension": ".py",
   "mimetype": "text/x-python",
   "name": "python",
   "nbconvert_exporter": "python",
   "pygments_lexer": "ipython3",
   "version": "3.11.7"
  }
 },
 "nbformat": 4,
 "nbformat_minor": 5
}
