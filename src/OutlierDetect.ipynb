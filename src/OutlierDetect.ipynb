{
 "cells": [
  {
   "cell_type": "markdown",
   "id": "0",
   "metadata": {},
   "source": [
    "# 异常值检测"
   ]
  },
  {
   "cell_type": "markdown",
   "id": "1",
   "metadata": {},
   "source": [
    "## 背景"
   ]
  },
  {
   "cell_type": "markdown",
   "id": "2",
   "metadata": {},
   "source": [
    "由于在临床数据中，患者的检测值往往本身就偏离正常范围（如糖尿病患者的血糖、高血压患者的血压），传统的基于健康人群参考区间的异常值检测方法可能不适用，因此异常值处理十分棘手。这里提出两种异常值检测方法。"
   ]
  },
  {
   "cell_type": "markdown",
   "id": "3",
   "metadata": {},
   "source": [
    "## 检测方法"
   ]
  },
  {
   "cell_type": "markdown",
   "id": "4",
   "metadata": {},
   "source": [
    "孤立森林(isolation Forest)算法，2008年由刘飞、周志华等提出，算法不借助类似距离、密度等指标去描述样本与其他样本的差异，而是直接去刻画所谓的疏离程度(isolation)，因此该算法简单、高效，在工业界应用较多。\n",
    "孤立森林算法适合高维稀疏数据，对分布无假设，因此适用于当前数据。"
   ]
  },
  {
   "cell_type": "code",
   "execution_count": null,
   "id": "5",
   "metadata": {},
   "outputs": [],
   "source": [
    "import pandas as pd\n",
    "import numpy as np\n",
    "\n",
    "# Load data from a pickle file\n",
    "try:\n",
    "    data : pd = pd.read_pickle('../data/data_remove_dup.pkl')\n",
    "except:\n",
    "    print(\"未在路径中找到目标数据表，先运行其他脚本\")\n",
    "    raise\n",
    "\n",
    "data"
   ]
  },
  {
   "cell_type": "code",
   "execution_count": null,
   "id": "6",
   "metadata": {},
   "outputs": [],
   "source": [
    "from sklearn.ensemble import IsolationForest\n",
    "\n",
    "# 初始化模型（调整contamination参数控制异常比例）\n",
    "clf = IsolationForest(\n",
    "    n_estimators=100,\n",
    "    contamination=0.02,  # 假设2%异常\n",
    "    random_state=42\n",
    ")\n",
    "\n",
    "testData = data.iloc[:, 8:]\n",
    "\n",
    "# 训练并预测\n",
    "data['anomaly_score'] = clf.fit_predict(testData.fillna(testData.median()))\n",
    "\n",
    "data['is_anomaly'] = np.where(data['anomaly_score'] == -1, True, False)\n",
    "anomalies = data[data['is_anomaly']]\n",
    "\n",
    "anomalies"
   ]
  },
  {
   "cell_type": "code",
   "execution_count": null,
   "id": "7",
   "metadata": {},
   "outputs": [],
   "source": [
    "import matplotlib.pyplot as plt\n",
    "import matplotlib\n",
    "import seaborn as sns\n",
    "# 计算异常样本的偏离值（相对于全局中位数）\n",
    "median_values = data.iloc[:, 8:].median()\n",
    "anomalies_deviation = anomalies.iloc[:, 8:] - median_values\n",
    "\n",
    "matplotlib.rcParams['font.sans-serif'] = ['SimHei']  # 指定默认字体\n",
    "matplotlib.rcParams['axes.unicode_minus'] = False\n",
    "\n",
    "# 绘制热力图\n",
    "plt.figure(figsize=(12, 8))\n",
    "sns.heatmap(\n",
    "    anomalies_deviation.T,\n",
    "    cmap='coolwarm',\n",
    "    annot=False,\n",
    "    fmt=\".2f\",\n",
    ")\n",
    "plt.title(\"异常样本各指标偏离中位数的程度\")\n",
    "plt.xlabel(\"样本编号\")\n",
    "plt.ylabel(\"检测指标\")\n",
    "plt.xticks(rotation=90)\n",
    "plt.show()"
   ]
  }
 ],
 "metadata": {
  "kernelspec": {
   "display_name": "Python 3 (ipykernel)",
   "language": "python",
   "name": "python3"
  },
  "language_info": {
   "codemirror_mode": {
    "name": "ipython",
    "version": 3
   },
   "file_extension": ".py",
   "mimetype": "text/x-python",
   "name": "python",
   "nbconvert_exporter": "python",
   "pygments_lexer": "ipython3",
   "version": "3.10.4"
  }
 },
 "nbformat": 4,
 "nbformat_minor": 5
}
