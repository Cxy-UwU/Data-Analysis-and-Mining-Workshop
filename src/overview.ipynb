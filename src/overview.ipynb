{
 "cells": [
  {
   "cell_type": "markdown",
   "id": "0",
   "metadata": {},
   "source": [
    "# 数据总体概况"
   ]
  },
  {
   "cell_type": "markdown",
   "id": "1",
   "metadata": {},
   "source": [
    "## 数据形状"
   ]
  },
  {
   "cell_type": "code",
   "execution_count": null,
   "id": "2",
   "metadata": {},
   "outputs": [],
   "source": [
    "import pandas as pd\n",
    "\n",
    "xlsx_path = \"../data/anonymized_data_for_workshop.xlsx\"\n",
    "xlsx_sheet_name = \"SQL Results\"\n",
    "pkl_path = \"../data/data_raw.pkl\"\n",
    "\n",
    "# 读取数据\n",
    "# 从 Excel 文件读取太慢。首次读取后将数据保存为 pickle 格式。\n",
    "try:\n",
    "    df: pd.DataFrame = pd.read_pickle(pkl_path)\n",
    "except FileNotFoundError:\n",
    "    try:\n",
    "        df = pd.read_excel(xlsx_path, sheet_name=xlsx_sheet_name)\n",
    "        df.to_pickle(pkl_path)\n",
    "    except:\n",
    "        print(\n",
    "            \"未能读取数据。请将 anonymized_data_for_workshop.xlsx 文件复制到 data 目录下\"\n",
    "        )\n",
    "        raise\n",
    "df"
   ]
  },
  {
   "cell_type": "code",
   "execution_count": null,
   "id": "3",
   "metadata": {},
   "outputs": [],
   "source": [
    "df.info()"
   ]
  },
  {
   "cell_type": "markdown",
   "id": "4",
   "metadata": {},
   "source": [
    "数据总共27351行，110列。"
   ]
  },
  {
   "cell_type": "markdown",
   "id": "5",
   "metadata": {},
   "source": [
    "## 空值检测"
   ]
  },
  {
   "cell_type": "markdown",
   "id": "6",
   "metadata": {},
   "source": [
    "### 检查全空的行和列"
   ]
  },
  {
   "cell_type": "code",
   "execution_count": null,
   "id": "7",
   "metadata": {},
   "outputs": [],
   "source": [
    "# 检查全空的列\n",
    "empty_columns = df.columns[df.isnull().all()]\n",
    "print(f\"全空的列（共{len(empty_columns)}个）:\", empty_columns.tolist())\n",
    "\n",
    "# 检查除了前八列以外的全空的行\n",
    "empty_rows = df.index[df.iloc[:, 8:].isnull().all(axis=1)]\n",
    "print(f\"没有任何检测结果的行（共{len(empty_rows)}个）:\", empty_rows.tolist())\n",
    "\n",
    "# 删除全空的列和行\n",
    "df.drop(columns=empty_columns, inplace=True)\n",
    "df.drop(index=empty_rows, inplace=True)\n",
    "\n",
    "# 保存为 pickle 格式\n",
    "df.to_pickle(\"../data/data_remove_empty.pkl\")\n",
    "\n",
    "df_backup = df.copy()"
   ]
  },
  {
   "cell_type": "markdown",
   "id": "8",
   "metadata": {},
   "source": [
    "全空的行和列对于数据分析没有意义，我们直接在这一步将其删除。"
   ]
  },
  {
   "cell_type": "markdown",
   "id": "9",
   "metadata": {},
   "source": [
    "### 检查剩余的空值"
   ]
  },
  {
   "cell_type": "code",
   "execution_count": null,
   "id": "10",
   "metadata": {},
   "outputs": [],
   "source": [
    "examine_results = df.iloc[:, 8:]\n",
    "empty_cnt = examine_results.isnull().sum().sum()\n",
    "n_columns = len(examine_results.columns)\n",
    "n_rows = len(examine_results.index)\n",
    "print(f\"除开个人信息、入院出院时间等，检查结果共有 {n_rows} 行，{n_columns} 列\")\n",
    "print(f\"其中有 {empty_cnt} 个空值，空值比例为 {empty_cnt / (n_rows * n_columns):.2%}\")\n",
    "# # 计算每列的空值比例\n",
    "# empty_ratio = examine_results.isnull().sum() / n_rows\n",
    "# print(\"每列的空值比例：\")\n",
    "# print(empty_ratio.sort_values(ascending=False))"
   ]
  },
  {
   "cell_type": "markdown",
   "id": "11",
   "metadata": {},
   "source": [
    "空缺的数据太过于多，以至于我们不太可能统一填补所有空值才做后续处理。数据的稀疏性可能是本项目要面对的挑战之一。"
   ]
  },
  {
   "cell_type": "markdown",
   "id": "12",
   "metadata": {},
   "source": [
    "## 特殊值"
   ]
  },
  {
   "cell_type": "markdown",
   "id": "13",
   "metadata": {},
   "source": [
    "可能是受限于检测仪器的量程，部分值带有小于号、大于号和问号，例如："
   ]
  },
  {
   "cell_type": "code",
   "execution_count": null,
   "id": "14",
   "metadata": {},
   "outputs": [],
   "source": [
    "print(\"部分值包含特殊符号，例如：\")\n",
    "print(df.loc[26698, \"雌二醇\"])\n",
    "print(df.loc[26698, \"叶酸\"])\n",
    "print(df.loc[22937, \"葡萄糖\"])\n",
    "\n",
    "# 统计特殊符号出现的次数\n",
    "special_symbols = ['<', '>', '?']\n",
    "special_counts = {\n",
    "    symbol: examine_results.astype(str)\n",
    "    .apply(lambda col: col.str.contains(symbol, regex=False))\n",
    "    .sum()\n",
    "    .sum()\n",
    "    for symbol in special_symbols\n",
    "}\n",
    "\n",
    "print(\"特殊符号出现的次数：\")\n",
    "for symbol, count in special_counts.items():\n",
    "    print(f\"{symbol}: {count} 次, 占比 {count / empty_cnt:.2%}\")"
   ]
  },
  {
   "cell_type": "markdown",
   "id": "15",
   "metadata": {},
   "source": [
    "## 时间维度分析"
   ]
  },
  {
   "cell_type": "markdown",
   "id": "16",
   "metadata": {},
   "source": [
    "数据有出院时间和入院时间，每一次出入院对应一个住院号码，我们可以统计一下，出入院的人数和时间的关系。"
   ]
  },
  {
   "cell_type": "code",
   "execution_count": null,
   "id": "17",
   "metadata": {},
   "outputs": [],
   "source": [
    "import matplotlib.pyplot as plt\n",
    "\n",
    "# 只保留每个住院号码的第一行数据\n",
    "df = df_backup.copy()\n",
    "df = df.drop_duplicates(subset=['住院号码'], keep='first')\n",
    "\n",
    "# 将入院时间和出院时间转换为日\n",
    "df['入院日'] = pd.to_datetime(df['入院时间']).dt.to_period('D').apply(lambda r: r.start_time)\n",
    "df['出院日'] = pd.to_datetime(df['出院时间']).dt.to_period('D').apply(lambda r: r.start_time)\n",
    "\n",
    "# 按周统计入院和出院人数\n",
    "weekly_admissions = df.groupby('入院日').size()\n",
    "weekly_discharges = df.groupby('出院日').size()\n",
    "plt.rcParams['font.sans-serif'] = ['SimHei']  # 设置字体为黑体\n",
    "# 绘制条形图\n",
    "plt.figure(figsize=(20, 6))\n",
    "plt.bar(weekly_admissions.index, weekly_admissions.values, width=2, label='入院人数', alpha=0.7)\n",
    "plt.xlabel('日期')\n",
    "plt.ylabel('人数')\n",
    "plt.title('每日入院人数统计')\n",
    "plt.legend()\n",
    "plt.grid(axis='y', linestyle='--', alpha=0.7)\n",
    "plt.tight_layout()\n",
    "plt.show()\n",
    "\n",
    "# 统计每个星期几的入院人数\n",
    "df['入院星期'] = df['入院日'].dt.dayofweek  # 0: Monday, 6: Sunday\n",
    "weekday_admissions = df.groupby('入院星期').size()\n",
    "\n",
    "# 绘制条形图\n",
    "plt.figure(figsize=(10, 6))\n",
    "plt.bar(weekday_admissions.index, weekday_admissions.values, alpha=0.7)\n",
    "plt.xlabel('星期')\n",
    "plt.xticks(ticks=weekday_admissions.index, labels=['周一', '周二', '周三', '周四', '周五', '周六', '周日'])\n",
    "plt.ylabel('入院人数')\n",
    "plt.title('星期与入院人数的关系')\n",
    "plt.grid(axis='y', linestyle='--', alpha=0.7)\n",
    "plt.tight_layout()\n",
    "plt.show()"
   ]
  },
  {
   "cell_type": "markdown",
   "id": "18",
   "metadata": {},
   "source": [
    "从日期的可视化可以看出：\n",
    "- 每年农历新年时，入院人数减少。\n",
    "- 疫情封控期间 和 疫情放开初期 ，出现连续多日入院人数为0的情况。\n",
    "\n",
    "从星期的可视化可以看出：\n",
    "- 周六周日的入院人数较少。这可能与患者的习惯或者医院的工作安排有关。"
   ]
  },
  {
   "cell_type": "code",
   "execution_count": null,
   "id": "19",
   "metadata": {},
   "outputs": [],
   "source": [
    "import seaborn as sns\n",
    "\n",
    "df = df_backup.copy()\n",
    "\n",
    "columns_to_analyze = df.columns[8:]\n",
    "df['采集小时'] = pd.to_datetime(df['采集时间']).dt.hour\n",
    "# 选择需要分析的检查名称列\n",
    "\n",
    "# 创建一个矩阵，行是检查名称，列是小时，值是每小时的采集次数\n",
    "heatmap_data = pd.DataFrame(0.0, index=columns_to_analyze, columns=range(24))\n",
    "\n",
    "for col in columns_to_analyze:\n",
    "    if col in df.columns:\n",
    "        hour_counts = df.loc[df[col].notnull(), '采集小时'].value_counts()\n",
    "        total_counts = hour_counts.sum()\n",
    "        for hour, count in hour_counts.items():\n",
    "            heatmap_data.loc[col, hour] = count\n",
    "            heatmap_data.loc[col, hour] = heatmap_data.loc[col, hour] / total_counts # 若要计算占比\n",
    "\n",
    "# 绘制热力图\n",
    "plt.figure(figsize=(12, 30))  # 调整图形大小以适应检查名称\n",
    "# 特意绘制成 Github commit cnt 的颜色\n",
    "sns.heatmap(heatmap_data, annot=False, fmt='d', cmap='BuGn', cbar_kws={'label': '采集次数', 'shrink': 0.5},\n",
    "            linewidths=0, linecolor='black', square=False)\n",
    "plt.gca().spines['top'].set_visible(True)\n",
    "plt.gca().spines['right'].set_visible(True)\n",
    "plt.gca().spines['bottom'].set_visible(True)\n",
    "plt.gca().spines['left'].set_visible(True)\n",
    "plt.xlabel('小时', labelpad=10)\n",
    "plt.gca().xaxis.set_label_position('top')\n",
    "plt.gca().xaxis.tick_top()\n",
    "plt.ylabel('检查名称')\n",
    "plt.title('检查结果采集时间分布热力图')\n",
    "plt.tight_layout()\n",
    "plt.show()"
   ]
  },
  {
   "cell_type": "markdown",
   "id": "20",
   "metadata": {},
   "source": [
    "我们大致能够看出以下的pattern：\n",
    "- 绝大部分采集发生在清晨5\\~7点之间。\n",
    "- 标注为“餐后2h”的数据项多在9点多采集。\n",
    "- 仔细观察浅色的色块，部分数据展现出了“一日三次”的规律。例如葡萄糖的三次采样可能在5时、11时、15时。"
   ]
  }
 ],
 "metadata": {
  "kernelspec": {
   "display_name": "base",
   "language": "python",
   "name": "python3"
  },
  "language_info": {
   "codemirror_mode": {
    "name": "ipython",
    "version": 3
   },
   "file_extension": ".py",
   "mimetype": "text/x-python",
   "name": "python",
   "nbconvert_exporter": "python",
   "pygments_lexer": "ipython3",
   "version": "3.11.7"
  }
 },
 "nbformat": 4,
 "nbformat_minor": 5
}
